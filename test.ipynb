{
 "cells": [
  {
   "cell_type": "code",
   "execution_count": null,
   "metadata": {},
   "outputs": [],
   "source": [
    "import unreal\n",
    "\n",
    "def obj_to_uasset(obj_path, uasset_path):\n",
    "    \"\"\"\n",
    "    Converts a .obj file to a .uasset in Unreal Engine.\n",
    "    \n",
    "    \"\"\"\n",
    " \n",
    "    if not hasattr(unreal, 'AssetToolsHelpers'):\n",
    "        raise RuntimeError(\"This script must be run inside Unreal Editor's Python environment.\")\n",
    "\n",
    "   \n",
    "    asset_tools = unreal.AssetToolsHelpers.get_asset_tools()\n",
    "    \n",
    "\n",
    "    import_task = unreal.AssetImportTask()\n",
    "    import_task.filename = obj_path\n",
    "    import_task.destination_path = uasset_path\n",
    "    import_task.automated = True  # Suppress UI dialogs\n",
    "    import_task.replace_existing = True  # Overwrite existing assets\n",
    " \n",
    "    asset_tools.import_asset_tasks([import_task])\n",
    "    print(f\"Imported {obj_path} to {uasset_path}\")\n",
    "\n",
    "obj_to_uasset(\n",
    "    obj_path=\"D:\\\\Unreal_Engine\\\\First_Project\\\\example_mesh_0.obj\",\n",
    "    uasset_path=\"/Game/Generated\"\n",
    ")\n"
   ]
  },
  {
   "cell_type": "code",
   "execution_count": 2,
   "metadata": {},
   "outputs": [
    {
     "name": "stderr",
     "output_type": "stream",
     "text": [
      "INFO:__init__:234:Got connection confirm: b'connected to gym_citynav'\n"
     ]
    },
    {
     "name": "stdout",
     "output_type": "stream",
     "text": [
      "=>Info: using ip-port socket\n"
     ]
    },
    {
     "data": {
      "text/plain": [
       "True"
      ]
     },
     "execution_count": 2,
     "metadata": {},
     "output_type": "execute_result"
    }
   ],
   "source": [
    "import unrealcv\n",
    "\n",
    "client = unrealcv.Client(('127.0.0.1', 9000))\n",
    "client.connect()"
   ]
  },
  {
   "cell_type": "code",
   "execution_count": 43,
   "metadata": {},
   "outputs": [],
   "source": [
    "cmd = \"vrun py C:\\\\Users\\\\28262\\\\Desktop\\\\PlayGorund\\\\import_assets\\\\obj_to_uasset.py\""
   ]
  },
  {
   "cell_type": "code",
   "execution_count": 44,
   "metadata": {},
   "outputs": [
    {
     "data": {
      "text/plain": [
       "'ok'"
      ]
     },
     "execution_count": 44,
     "metadata": {},
     "output_type": "execute_result"
    }
   ],
   "source": [
    "client.request(cmd)"
   ]
  }
 ],
 "metadata": {
  "kernelspec": {
   "display_name": "agents",
   "language": "python",
   "name": "python3"
  },
  "language_info": {
   "codemirror_mode": {
    "name": "ipython",
    "version": 3
   },
   "file_extension": ".py",
   "mimetype": "text/x-python",
   "name": "python",
   "nbconvert_exporter": "python",
   "pygments_lexer": "ipython3",
   "version": "3.10.16"
  }
 },
 "nbformat": 4,
 "nbformat_minor": 2
}
